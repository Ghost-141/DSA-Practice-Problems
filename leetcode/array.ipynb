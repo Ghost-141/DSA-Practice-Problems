{
 "cells": [
  {
   "cell_type": "markdown",
   "id": "e9d35ba7",
   "metadata": {},
   "source": [
    "## Moving Zeros\n"
   ]
  },
  {
   "cell_type": "code",
   "execution_count": 21,
   "id": "3ae4d0b8",
   "metadata": {},
   "outputs": [
    {
     "name": "stdout",
     "output_type": "stream",
     "text": [
      "[1, 3, 12, 0, 0]\n"
     ]
    }
   ],
   "source": [
    "from typing import List\n",
    "def moveZeroes(nums: List[int]) -> None:\n",
    "    \"\"\"\n",
    "    Do not return anything, modify nums in-place instead.\n",
    "    \"\"\"\n",
    "    j = int(0)\n",
    "    for i in range(len(nums)):\n",
    "        if nums[i]!=0:\n",
    "            nums[j] = nums[i]\n",
    "            if i!=j:\n",
    "                nums[i]=0\n",
    "            j+=1 \n",
    "    print(nums)        \n",
    "\n",
    "moveZeroes([0, 1, 0, 3, 12])"
   ]
  },
  {
   "cell_type": "code",
   "execution_count": null,
   "id": "acfb8b2b",
   "metadata": {},
   "outputs": [],
   "source": []
  }
 ],
 "metadata": {
  "kernelspec": {
   "display_name": "ml",
   "language": "python",
   "name": "python3"
  },
  "language_info": {
   "codemirror_mode": {
    "name": "ipython",
    "version": 3
   },
   "file_extension": ".py",
   "mimetype": "text/x-python",
   "name": "python",
   "nbconvert_exporter": "python",
   "pygments_lexer": "ipython3",
   "version": "3.10.16"
  }
 },
 "nbformat": 4,
 "nbformat_minor": 5
}
