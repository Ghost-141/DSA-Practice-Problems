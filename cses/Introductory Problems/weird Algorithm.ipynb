{
 "cells": [
  {
   "cell_type": "markdown",
   "id": "61d1f6b4",
   "metadata": {},
   "source": [
    "# Weired Algorithm"
   ]
  },
  {
   "cell_type": "markdown",
   "id": "611c845b",
   "metadata": {},
   "source": [
    "Consider an algorithm that takes as input a positive integer n. If n is even, the algorithm divides it by two, and if n is odd, the algorithm multiplies it by three and adds one. The algorithm repeats this, until n is one. For example, the sequence for n=3 is as follows:\n",
    "$$ 3 \\rightarrow 10 \\rightarrow 5 \\rightarrow 16 \\rightarrow 8 \\rightarrow 4 \\rightarrow 2 \\rightarrow 1$$  \n",
    "\n",
    "Your task is to simulate the execution of the algorithm for a given value of n.\n",
    "\n",
    "\n",
    "**Input:** The only input line contains an integer n.  \n",
    "\n",
    "**Output:** Print a line that contains all values of n during the algorithm.  \n",
    "\n",
    "**Constraints:** 1 $\\le$ n $\\le$ $10^6$\n",
    "\n",
    "**Example:**  \n",
    "\n",
    "Input: 3\n",
    "\n",
    "Output: 3 10 5 16 8 4 2 1"
   ]
  },
  {
   "cell_type": "code",
   "execution_count": null,
   "id": "19e58b1c",
   "metadata": {},
   "outputs": [],
   "source": [
    "def weired_algo(n:int):\n",
    "    print(n, end=\" \")\n",
    "    while(n>1):\n",
    "        if(n%2==0):\n",
    "            n = n//2\n",
    "            print(n, end=\" \")\n",
    "        else:\n",
    "            n = n*3+1\n",
    "            print(n, end=\" \")\n",
    "\n",
    "n = int(input())\n",
    "weired_algo(n)"
   ]
  },
  {
   "cell_type": "markdown",
   "id": "b5a7fee1",
   "metadata": {},
   "source": [
    "You are given all numbers between 1,2,$\\ldots$,n except one. Your task is to find the missing number.\n",
    "\n",
    "**Input:**\n",
    "\n",
    "The first input line contains an integer n.\n",
    "The second line contains n-1 numbers. Each number is distinct and between 1 and n (inclusive).\n",
    "\n",
    "**Output:** Print the missing number.\n",
    "\n",
    "Constraints: 2 $\\le$ n $\\le$ 2 $\\cdot$ $10^5$\n",
    "\n",
    "**Example:**\n",
    "\n",
    "Input:\n",
    "\n",
    "5  \n",
    "2 3 1 5\n",
    "\n",
    "Output: 4"
   ]
  },
  {
   "cell_type": "code",
   "execution_count": null,
   "id": "ea8efa81",
   "metadata": {},
   "outputs": [],
   "source": [
    "def missing_number(n, ar:[]):\n",
    "    ip_total = sum(ar)\n",
    "    sum_n = (n*(n+1))//2\n",
    "    num = sum_n - ip_total\n",
    "    return num\n",
    "\n",
    "n = int(input())\n",
    "arr = list(map(int, input().split()))\n",
    "res=missing_number(n, arr)    \n",
    "print(res)"
   ]
  },
  {
   "cell_type": "markdown",
   "id": "3bff103f",
   "metadata": {},
   "source": [
    "You are given a DNA sequence: a string consisting of characters A, C, G, and T. Your task is to find the longest repetition in the sequence. This is a maximum-length substring containing only one type of character.\n",
    "\n",
    "**Input:**\n",
    "\n",
    "The only input line contains a string of n characters.\n",
    "\n",
    "**Output:**\n",
    "\n",
    "Print one integer: the length of the longest repetition.\n",
    "\n",
    "**Constraints:** 1 $\\le$ n $\\le$ $10^6$\n",
    "\n",
    "Example:\n",
    "\n",
    "Input: ATTCGGGA\n",
    "\n",
    "Output: 3"
   ]
  },
  {
   "cell_type": "code",
   "execution_count": null,
   "id": "fef9b900",
   "metadata": {},
   "outputs": [],
   "source": [
    "ar1 = \"AAAA\"\n",
    "len(ar1)"
   ]
  },
  {
   "cell_type": "code",
   "execution_count": null,
   "id": "000eb246",
   "metadata": {},
   "outputs": [],
   "source": [
    "ar = str(input())\n",
    "def repetitions(ar:str):\n",
    "    count = 1\n",
    "    max_count = 1\n",
    "    i = int(1)\n",
    "    while i<len(ar):\n",
    "        if(ar[i]==ar[i-1]):\n",
    "            count+=1\n",
    "            i+=1\n",
    "        else:\n",
    "            if(max_count<count):\n",
    "                max_count=count\n",
    "            count=1\n",
    "            i+=1\n",
    "    if(count>max_count):\n",
    "        max_count=count\n",
    "    return print(max_count)\n",
    "repetitions(ar)  "
   ]
  },
  {
   "cell_type": "code",
   "execution_count": null,
   "id": "5a259af9",
   "metadata": {},
   "outputs": [],
   "source": [
    "ip = int(input(\"Enter your number: \"))\n",
    "n=ip\n",
    "if ip<=3:\n",
    "    print(\"NO SOLUTION\")\n",
    "else:\n",
    "    while ip>=1:\n",
    "        if(ip%2==0):\n",
    "            print(ip, end=\" \")\n",
    "        elif ip==1:\n",
    "            while(n>=1):\n",
    "                if(n%2!=0):\n",
    "                    print(n, end=\" \")\n",
    "                n-=1    \n",
    "        ip-=1    "
   ]
  },
  {
   "cell_type": "code",
   "execution_count": null,
   "id": "376a18bf",
   "metadata": {},
   "outputs": [],
   "source": [
    "ip = int(input(\"Enter your number: \"))\n",
    "n=ip\n",
    "if ip<=3:\n",
    "    print(\"NO SOLUTION\")\n",
    "else:\n",
    "    for i in range(2, n+1, 2):\n",
    "        print(i, end=\" \")\n",
    "    for i in range(1, n+1, 2):\n",
    "        print(i, end=\" \")   "
   ]
  },
  {
   "cell_type": "code",
   "execution_count": 6,
   "id": "08295c85",
   "metadata": {},
   "outputs": [
    {
     "name": "stdout",
     "output_type": "stream",
     "text": [
      "3\n",
      "1 6 7\n",
      "4\n",
      "2 3 4 5\n"
     ]
    }
   ],
   "source": [
    "n = int(input(\"Input the number: \"))\n",
    "a = set()\n",
    "b = set()\n",
    "sum = int(n*(n+1)/2)\n",
    "temp = int(sum/2)\n",
    "if(sum%2==0):\n",
    "    for i in range(n, 0, -1):\n",
    "        if(temp>=i):\n",
    "            temp = temp - i\n",
    "            a.add(i)\n",
    "        else:\n",
    "            b.add(i) \n",
    "    print(len(a), end=\"\\n\")\n",
    "    print(*a)\n",
    "    print(len(b), end=\"\\n\")\n",
    "    print(*b)        \n",
    "else:\n",
    "    print(\"NO\")"
   ]
  },
  {
   "cell_type": "code",
   "execution_count": 4,
   "id": "e65b2824",
   "metadata": {},
   "outputs": [
    {
     "name": "stdout",
     "output_type": "stream",
     "text": [
      "YES\n",
      "3\n",
      "1 6 7\n",
      "4\n",
      "2 3 4 5\n"
     ]
    }
   ],
   "source": [
    "def tow_set(n:int):\n",
    "    a = set()\n",
    "    b = set()\n",
    "    sum = int(n*(n+1)/2)\n",
    "    temp = int(sum/2)\n",
    "    if(sum%2==0):\n",
    "        for i in range(n, 0, -1):\n",
    "            if(temp>=i):\n",
    "                temp = temp - i\n",
    "                a.add(i)\n",
    "            else:\n",
    "                b.add(i) \n",
    "        print(\"YES\")\n",
    "                \n",
    "        print(len(a), end=\"\\n\")\n",
    "        a_sorted=list(a)\n",
    "        a_sorted.sort()\n",
    "        print(*a_sorted)\n",
    "        print(len(b), end=\"\\n\")\n",
    "        b_sorted=list(b)\n",
    "        b_sorted.sort()\n",
    "        print(*b_sorted)        \n",
    "    else:\n",
    "        print(\"NO\")\n",
    "n = int(input(\"Input the number: \"))   \n",
    "tow_set(n)     "
   ]
  },
  {
   "cell_type": "code",
   "execution_count": null,
   "id": "1728c568",
   "metadata": {},
   "outputs": [],
   "source": [
    "list=[3, 1, 2]\n",
    "list.sort()\n",
    "print(list)"
   ]
  },
  {
   "cell_type": "code",
   "execution_count": null,
   "id": "004c92f2",
   "metadata": {},
   "outputs": [],
   "source": []
  }
 ],
 "metadata": {
  "kernelspec": {
   "display_name": "ml",
   "language": "python",
   "name": "python3"
  },
  "language_info": {
   "codemirror_mode": {
    "name": "ipython",
    "version": 3
   },
   "file_extension": ".py",
   "mimetype": "text/x-python",
   "name": "python",
   "nbconvert_exporter": "python",
   "pygments_lexer": "ipython3",
   "version": "3.10.16"
  }
 },
 "nbformat": 4,
 "nbformat_minor": 5
}
