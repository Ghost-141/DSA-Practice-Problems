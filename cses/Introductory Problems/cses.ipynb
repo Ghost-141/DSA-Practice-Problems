{
 "cells": [
  {
   "cell_type": "markdown",
   "id": "58410cbb",
   "metadata": {},
   "source": [
    "You are given a DNA sequence: a string consisting of characters A, C, G, and T. Your task is to find the longest repetition in the sequence. This is a maximum-length substring containing only one type of character.  \n",
    "\n",
    "**Input:**\n",
    "The only input line contains a string of n characters.  \n",
    "\n",
    "**Output:**\n",
    "Print one integer: the length of the longest repetition.  \n",
    "\n",
    "**Constraints:**\n",
    "\n",
    "1 $\\le$ n $\\le$ $10^6$\n",
    "\n",
    "**Example:**\n",
    "\n",
    "Input:\n",
    "\n",
    "ATTCGGGA\n",
    "\n",
    "Output:\n",
    "3\n"
   ]
  },
  {
   "cell_type": "code",
   "execution_count": null,
   "id": "76ccfbb7",
   "metadata": {},
   "outputs": [
    {
     "name": "stdout",
     "output_type": "stream",
     "text": [
      "max count is:  3 G\n"
     ]
    }
   ],
   "source": [
    "ar = \"ATTCGGGA\"\n",
    "ar[0]\n",
    "max_chr = \"\"\n",
    "count = int(1)\n",
    "max_count = int(1)\n",
    "i = int(1)\n",
    "while i < len(ar):\n",
    "    if ar[i] == ar[i - 1]:\n",
    "        count += 1\n",
    "        i += 1\n",
    "    else:\n",
    "        if count > max_count:\n",
    "            max_count = count\n",
    "            max_chr = ar[i - 1]\n",
    "        count = 1\n",
    "        i += 1\n",
    "print(\"max count is: \", max_count, max_chr)"
   ]
  },
  {
   "cell_type": "markdown",
   "id": "780f0be4",
   "metadata": {},
   "source": [
    "Your task is to calculate the number of trailing zeros in the factorial n!.  \n",
    "\n",
    "For example, 20!=2432902008176640000 and it has 4 trailing zeros.\n",
    "\n",
    "**Input:**\n",
    "\n",
    "The only input line has an integer n.\n",
    "\n",
    "**Output:**\n",
    "\n",
    "Print the number of trailing zeros in n!.\n",
    "Constraints\n",
    "\n",
    "1 $\\le$ n $\\le$ $10^9$\n",
    "\n",
    "**Example:**  \n",
    "\n",
    "Input: 20  \n",
    "\n",
    "Output: 4"
   ]
  },
  {
   "cell_type": "code",
   "execution_count": null,
   "id": "9eb5cc22",
   "metadata": {},
   "outputs": [
    {
     "name": "stdout",
     "output_type": "stream",
     "text": [
      "24\n"
     ]
    }
   ],
   "source": [
    "n = int(input())\n",
    "i = int(1)\n",
    "res = 0\n",
    "while True:\n",
    "    temp = int(n // 5**i)\n",
    "    res += temp\n",
    "    i += 1\n",
    "    if temp == 0:\n",
    "        break\n",
    "print(res)"
   ]
  },
  {
   "cell_type": "markdown",
   "id": "47e03d11",
   "metadata": {},
   "source": [
    "A permutation of integers 1,2,$\\ldots$,n is called beautiful if there are no adjacent elements whose difference is 1. Given n, construct a beautiful permutation if such a permutation exists.\n",
    "\n",
    "**Input:**\n",
    "The only input line contains an integer n.\n",
    "**Output:**\n",
    "Print a beautiful permutation of integers 1,2,\\ldots,n. If there are several solutions, you may print any of them. If there are no solutions, print \"NO SOLUTION\".\n",
    "\n",
    "**Constraints:**\n",
    "\n",
    "1 $\\le$ n $\\le$ $10^6$\n",
    "\n",
    "Example 1:\n",
    "\n",
    "Input:\n",
    "\n",
    "5\n",
    "\n",
    "Output:\n",
    "\n",
    "4 2 5 3 1\n",
    "\n",
    "Example 2\n",
    "\n",
    "Input:\n",
    "\n",
    "3\n",
    "\n",
    "Output:\n",
    "\n",
    "NO SOLUTION"
   ]
  },
  {
   "cell_type": "code",
   "execution_count": null,
   "id": "60f004a5",
   "metadata": {},
   "outputs": [
    {
     "name": "stdout",
     "output_type": "stream",
     "text": [
      "4 2 5 3 1 "
     ]
    }
   ],
   "source": [
    "n=int(input())\n",
    "i = n\n",
    "while i!=0:\n",
    "    if(i%2==0):\n",
    "        print(i, end=\" \")\n",
    "    elif(i==1):\n",
    "        j=n\n",
    "        while j!=0:\n",
    "            if(j%2!=0):\n",
    "                print(j, end=\" \")\n",
    "            j-=1\n",
    "    i-=1    "
   ]
  },
  {
   "cell_type": "code",
   "execution_count": null,
   "id": "3b60b4fa",
   "metadata": {},
   "outputs": [],
   "source": []
  }
 ],
 "metadata": {
  "kernelspec": {
   "display_name": "ml",
   "language": "python",
   "name": "python3"
  },
  "language_info": {
   "codemirror_mode": {
    "name": "ipython",
    "version": 3
   },
   "file_extension": ".py",
   "mimetype": "text/x-python",
   "name": "python",
   "nbconvert_exporter": "python",
   "pygments_lexer": "ipython3",
   "version": "3.10.16"
  }
 },
 "nbformat": 4,
 "nbformat_minor": 5
}
